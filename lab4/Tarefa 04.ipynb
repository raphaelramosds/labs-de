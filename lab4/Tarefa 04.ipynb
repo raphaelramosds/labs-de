{
 "cells": [
  {
   "cell_type": "markdown",
   "metadata": {
    "id": "U1c6lVrWnoID"
   },
   "source": [
    "# Lab 4 - Programação Spark Dataframes\n",
    "\n",
    "**Discentes**\n",
    "\n",
    "- Emanoel Batista\n",
    "- Raphael Ramos"
   ]
  },
  {
   "cell_type": "markdown",
   "metadata": {
    "id": "Av2HdjxD2SLQ"
   },
   "source": [
    "## Preparação do Dataframe"
   ]
  },
  {
   "cell_type": "code",
   "execution_count": 1,
   "metadata": {
    "colab": {
     "base_uri": "https://localhost:8080/"
    },
    "executionInfo": {
     "elapsed": 28053,
     "status": "ok",
     "timestamp": 1731424836481,
     "user": {
      "displayName": "Raphael Ramos",
      "userId": "15789848825425864116"
     },
     "user_tz": 180
    },
    "id": "_ZMU24B7npMs",
    "outputId": "9abedae7-4c13-4b52-e6a5-a9ed8bbb0af6"
   },
   "outputs": [
    {
     "name": "stderr",
     "output_type": "stream",
     "text": [
      "your 131072x1 screen size is bogus. expect trouble\n",
      "24/11/13 09:00:11 WARN Utils: Your hostname, DESKTOP-JALCD72 resolves to a loopback address: 127.0.1.1; using 10.255.255.254 instead (on interface lo)\n",
      "24/11/13 09:00:11 WARN Utils: Set SPARK_LOCAL_IP if you need to bind to another address\n",
      "Setting default log level to \"WARN\".\n",
      "To adjust logging level use sc.setLogLevel(newLevel). For SparkR, use setLogLevel(newLevel).\n",
      "24/11/13 09:00:12 WARN NativeCodeLoader: Unable to load native-hadoop library for your platform... using builtin-java classes where applicable\n",
      "                                                                                \r"
     ]
    },
    {
     "data": {
      "text/plain": [
       "StructType([StructField('Voos', StringType(), True), StructField('Companhia.Aerea', StringType(), True), StructField('Codigo.Tipo.Linha', StringType(), True), StructField('Partida.Prevista', TimestampType(), True), StructField('Partida.Real', StringType(), True), StructField('Chegada.Prevista', TimestampType(), True), StructField('Chegada.Real', StringType(), True), StructField('Situacao.Voo', StringType(), True), StructField('Codigo.Justificativa', StringType(), True), StructField('Aeroporto.Origem', StringType(), True), StructField('Cidade.Origem', StringType(), True), StructField('Estado.Origem', StringType(), True), StructField('Pais.Origem', StringType(), True), StructField('Aeroporto.Destino', StringType(), True), StructField('Cidade.Destino', StringType(), True), StructField('Estado.Destino', StringType(), True), StructField('Pais.Destino', StringType(), True), StructField('LongDest', DoubleType(), True), StructField('LatDest', DoubleType(), True), StructField('LongOrig', DoubleType(), True), StructField('LatOrig', DoubleType(), True)])"
      ]
     },
     "execution_count": 1,
     "metadata": {},
     "output_type": "execute_result"
    }
   ],
   "source": [
    "# Importação das bibliotecas necessárias\n",
    "from pyspark.sql import SparkSession  # Importa a classe SparkSession para criar uma sessão Spark\n",
    "import os  # Importa a biblioteca os para interagir com o sistema operacional (ex. verificar a existência de arquivos)\n",
    "\n",
    "# Criação da sessão Spark com o nome de aplicativo especificado\n",
    "spark = SparkSession.builder.appName(\"Lab 4 - Programação Spark Dataframes\").getOrCreate()\n",
    "\n",
    "# Definição do caminho para o arquivo CSV\n",
    "path = 'voosBrasil.csv'\n",
    "\n",
    "# Inicializa a variável 'dfa' com valor None. Ela será usada para armazenar o DataFrame\n",
    "dfa = None\n",
    "\n",
    "# Bloco try-except para tratar possíveis erros na leitura do arquivo\n",
    "try:\n",
    "  # Verifica se o arquivo especificado existe no caminho fornecido\n",
    "  if not os.path.exists(path):\n",
    "    # Se o arquivo não existir, levanta uma exceção personalizada\n",
    "    raise Exception(f'Arquivo {path} não existe')\n",
    "\n",
    "  # Lê o arquivo CSV utilizando o Spark, com a opção de usar o cabeçalho e inferir o tipo de dados das colunas\n",
    "  dfa = spark.read.csv(path, header=True, inferSchema=True)\n",
    "\n",
    "  # Verifica se a leitura do arquivo foi bem-sucedida (se o DataFrame está vazio)\n",
    "  if not dfa:\n",
    "    # Se o DataFrame estiver vazio, levanta uma exceção indicando erro na leitura\n",
    "    raise Exception('Erro na leitura do dataset')\n",
    "\n",
    "# Bloco para capturar e exibir qualquer erro que ocorra no bloco try\n",
    "except Exception as error:\n",
    "    # Exibe a mensagem do erro caso ocorra\n",
    "    print(error)\n",
    "\n",
    "# Exibe o schema (estrutura) do DataFrame 'dfa', que mostra os nomes das colunas e seus tipos de dados\n",
    "dfa.schema"
   ]
  },
  {
   "cell_type": "markdown",
   "metadata": {
    "id": "pLgdeSXO2ypy"
   },
   "source": [
    "### Pré-processamento do Dataframe"
   ]
  },
  {
   "cell_type": "code",
   "execution_count": 2,
   "metadata": {
    "colab": {
     "base_uri": "https://localhost:8080/"
    },
    "executionInfo": {
     "elapsed": 4,
     "status": "ok",
     "timestamp": 1731424836481,
     "user": {
      "displayName": "Raphael Ramos",
      "userId": "15789848825425864116"
     },
     "user_tz": 180
    },
    "id": "xKCwEkGw23Oy",
    "outputId": "62010e31-8b34-4dd1-f279-62db48191c71"
   },
   "outputs": [
    {
     "name": "stdout",
     "output_type": "stream",
     "text": [
      "+---------+--------------------+-----------------+-------------------+-------------------+-------------------+-------------------+------------+--------------------+----------------+--------------------+-------------+--------------+-----------------+--------------------+--------------+--------------+-----------+-----------+-----------+-----------+\n",
      "|     Voos|     Companhia_Aerea|Codigo_Tipo_Linha|   Partida_Prevista|       Partida_Real|   Chegada_Prevista|       Chegada_Real|Situacao_Voo|Codigo_Justificativa|Aeroporto_Origem|       Cidade_Origem|Estado_Origem|   Pais_Origem|Aeroporto_Destino|      Cidade_Destino|Estado_Destino|  Pais_Destino|   LongDest|    LatDest|   LongOrig|    LatOrig|\n",
      "+---------+--------------------+-----------------+-------------------+-------------------+-------------------+-------------------+------------+--------------------+----------------+--------------------+-------------+--------------+-----------------+--------------------+--------------+--------------+-----------+-----------+-----------+-----------+\n",
      "|AAL - 203|AMERICAN AIRLINES...|    Internacional|2016-01-30 06:58:00|2016-01-30 06:58:00|2016-01-30 08:35:00|2016-01-30 08:35:00|   Realizado|                  NA|     Afonso Pena|Sao Jose Dos Pinhais|           PR|        Brasil|    Salgado Filho|        Porto Alegre|            RS|        Brasil|-51.1753811|-29.9934732|-49.1724811|-25.5327132|\n",
      "|AAL - 203|AMERICAN AIRLINES...|    Internacional|2016-01-13 10:13:00|2016-01-13 10:13:00|2016-01-13 19:30:00|2016-01-13 19:30:00|   Realizado|                  NA|   Salgado Filho|        Porto Alegre|           RS|        Brasil|            Miami|               Miami|           N/I|Estados Unidos|-80.2870457|  25.795865|-51.1753811|-29.9934732|\n",
      "|AAL - 203|AMERICAN AIRLINES...|    Internacional|2016-01-29 10:13:00|2016-01-29 10:13:00|2016-01-29 19:30:00|2016-01-29 19:30:00|   Realizado|                  NA|   Salgado Filho|        Porto Alegre|           RS|        Brasil|            Miami|               Miami|           N/I|Estados Unidos|-80.2870457|  25.795865|-51.1753811|-29.9934732|\n",
      "|AAL - 203|AMERICAN AIRLINES...|    Internacional|2016-01-19 10:13:00|2016-01-18 10:03:00|2016-01-19 19:30:00|2016-01-18 18:41:00|   Realizado|LIBERACAO SERV. T...|   Salgado Filho|        Porto Alegre|           RS|        Brasil|            Miami|               Miami|           N/I|Estados Unidos|-80.2870457|  25.795865|-51.1753811|-29.9934732|\n",
      "|AAL - 203|AMERICAN AIRLINES...|    Internacional|2016-01-30 10:13:00|2016-01-30 10:13:00|2016-01-30 19:30:00|2016-01-30 19:30:00|   Realizado|                  NA|   Salgado Filho|        Porto Alegre|           RS|        Brasil|            Miami|               Miami|           N/I|Estados Unidos|-80.2870457|  25.795865|-51.1753811|-29.9934732|\n",
      "|AAL - 203|AMERICAN AIRLINES...|    Internacional|2016-01-03 21:05:00|2016-01-03 21:05:00|2016-01-04 05:50:00|2016-01-04 05:50:00|   Realizado|                  NA|           Miami|               Miami|          N/I|Estados Unidos|      Afonso Pena|Sao Jose Dos Pinhais|            PR|        Brasil|-49.1724811|-25.5327132|-80.2870457|  25.795865|\n",
      "|AAL - 203|AMERICAN AIRLINES...|    Internacional|2016-01-05 21:05:00|2016-01-05 21:35:00|2016-01-06 05:50:00|2016-01-06 06:35:00|   Realizado|LIBERACAO SERV. T...|           Miami|               Miami|          N/I|Estados Unidos|      Afonso Pena|Sao Jose Dos Pinhais|            PR|        Brasil|-49.1724811|-25.5327132|-80.2870457|  25.795865|\n",
      "|AAL - 203|AMERICAN AIRLINES...|    Internacional|2016-01-18 10:13:00|2016-01-18 11:09:00|2016-01-18 19:30:00|2016-01-18 20:24:00|   Realizado| CONEXAO DE AERONAVE|   Salgado Filho|        Porto Alegre|           RS|        Brasil|            Miami|               Miami|           N/I|Estados Unidos|-80.2870457|  25.795865|-51.1753811|-29.9934732|\n",
      "|AAL - 203|AMERICAN AIRLINES...|    Internacional|2016-01-22 21:05:00|2016-01-22 21:05:00|2016-01-23 05:50:00|2016-01-23 05:50:00|   Realizado|                  NA|           Miami|               Miami|          N/I|Estados Unidos|      Afonso Pena|Sao Jose Dos Pinhais|            PR|        Brasil|-49.1724811|-25.5327132|-80.2870457|  25.795865|\n",
      "|AAL - 203|AMERICAN AIRLINES...|    Internacional|2016-01-15 21:05:00|2016-01-15 21:55:00|2016-01-16 05:50:00|2016-01-16 06:28:00|   Realizado|ATRASOS NAO ESPEC...|           Miami|               Miami|          N/I|Estados Unidos|      Afonso Pena|Sao Jose Dos Pinhais|            PR|        Brasil|-49.1724811|-25.5327132|-80.2870457|  25.795865|\n",
      "|AAL - 203|AMERICAN AIRLINES...|    Internacional|2016-01-10 06:58:00|2016-01-10 08:22:00|2016-01-10 08:35:00|2016-01-10 09:31:00|   Realizado| CONEXAO DE AERONAVE|     Afonso Pena|Sao Jose Dos Pinhais|           PR|        Brasil|    Salgado Filho|        Porto Alegre|            RS|        Brasil|-51.1753811|-29.9934732|-49.1724811|-25.5327132|\n",
      "|AAL - 203|AMERICAN AIRLINES...|    Internacional|2016-01-24 10:13:00|2016-01-24 10:13:00|2016-01-24 19:30:00|2016-01-24 19:30:00|   Realizado|                  NA|   Salgado Filho|        Porto Alegre|           RS|        Brasil|            Miami|               Miami|           N/I|Estados Unidos|-80.2870457|  25.795865|-51.1753811|-29.9934732|\n",
      "|AAL - 203|AMERICAN AIRLINES...|    Internacional|2016-01-05 06:58:00|2016-01-05 06:58:00|2016-01-05 08:35:00|2016-01-05 08:35:00|   Realizado|                  NA|     Afonso Pena|Sao Jose Dos Pinhais|           PR|        Brasil|    Salgado Filho|        Porto Alegre|            RS|        Brasil|-51.1753811|-29.9934732|-49.1724811|-25.5327132|\n",
      "|AAL - 203|AMERICAN AIRLINES...|    Internacional|2016-01-18 06:58:00|2016-01-18 08:54:00|2016-01-18 08:35:00|2016-01-18 10:08:00|   Realizado| CONEXAO DE AERONAVE|     Afonso Pena|Sao Jose Dos Pinhais|           PR|        Brasil|    Salgado Filho|        Porto Alegre|            RS|        Brasil|-51.1753811|-29.9934732|-49.1724811|-25.5327132|\n",
      "|AAL - 203|AMERICAN AIRLINES...|    Internacional|2016-01-31 06:58:00|2016-01-31 06:58:00|2016-01-31 08:35:00|2016-01-31 08:35:00|   Realizado|                  NA|     Afonso Pena|Sao Jose Dos Pinhais|           PR|        Brasil|    Salgado Filho|        Porto Alegre|            RS|        Brasil|-51.1753811|-29.9934732|-49.1724811|-25.5327132|\n",
      "|AAL - 203|AMERICAN AIRLINES...|    Internacional|2016-01-26 21:05:00|2016-01-26 21:16:00|2016-01-27 05:50:00|2016-01-27 06:22:00|   Realizado|ATRASOS NAO ESPEC...|           Miami|               Miami|          N/I|Estados Unidos|      Afonso Pena|Sao Jose Dos Pinhais|            PR|        Brasil|-49.1724811|-25.5327132|-80.2870457|  25.795865|\n",
      "|AAL - 203|AMERICAN AIRLINES...|    Internacional|2016-01-12 06:58:00|2016-01-12 06:58:00|2016-01-12 08:35:00|2016-01-12 08:35:00|   Realizado|                  NA|     Afonso Pena|Sao Jose Dos Pinhais|           PR|        Brasil|    Salgado Filho|        Porto Alegre|            RS|        Brasil|-51.1753811|-29.9934732|-49.1724811|-25.5327132|\n",
      "|AAL - 203|AMERICAN AIRLINES...|    Internacional|2016-01-07 10:13:00|2016-01-07 10:13:00|2016-01-07 19:30:00|2016-01-07 19:30:00|   Realizado|                  NA|   Salgado Filho|        Porto Alegre|           RS|        Brasil|            Miami|               Miami|           N/I|Estados Unidos|-80.2870457|  25.795865|-51.1753811|-29.9934732|\n",
      "|AAL - 203|AMERICAN AIRLINES...|    Internacional|2016-01-21 21:05:00|2016-01-21 21:05:00|2016-01-22 05:50:00|2016-01-22 05:50:00|   Realizado|                  NA|           Miami|               Miami|          N/I|Estados Unidos|      Afonso Pena|Sao Jose Dos Pinhais|            PR|        Brasil|-49.1724811|-25.5327132|-80.2870457|  25.795865|\n",
      "|AAL - 203|AMERICAN AIRLINES...|    Internacional|2016-01-29 21:05:00|2016-01-29 21:05:00|2016-01-30 05:50:00|2016-01-30 05:50:00|   Realizado|                  NA|           Miami|               Miami|          N/I|Estados Unidos|      Afonso Pena|Sao Jose Dos Pinhais|            PR|        Brasil|-49.1724811|-25.5327132|-80.2870457|  25.795865|\n",
      "+---------+--------------------+-----------------+-------------------+-------------------+-------------------+-------------------+------------+--------------------+----------------+--------------------+-------------+--------------+-----------------+--------------------+--------------+--------------+-----------+-----------+-----------+-----------+\n",
      "only showing top 20 rows\n",
      "\n"
     ]
    }
   ],
   "source": [
    "# Importação da função 'to_timestamp' do módulo pyspark.sql.functions\n",
    "from pyspark.sql.functions import to_timestamp\n",
    "\n",
    "# Identificação das colunas cujos nomes contêm um ponto '.'\n",
    "# A list comprehension percorre todas as colunas de 'dfa' e verifica se o nome da coluna contém um ponto\n",
    "cols_with_dot = [col for col in dfa.columns if '.' in col]\n",
    "\n",
    "# Criação de um dicionário que mapeia o nome das colunas com ponto para o mesmo nome, mas com o ponto substituído por '_'\n",
    "# O método replace substitui todos os pontos por underscores\n",
    "cols_dict = {col: col.replace('.', '_') for col in cols_with_dot}\n",
    "\n",
    "# Renomeação das colunas no DataFrame 'dfa' de acordo com o dicionário 'cols_dict'\n",
    "# 'withColumnsRenamed' recebe o dicionário de renomeações e aplica as mudanças no DataFrame\n",
    "dfa = dfa.withColumnsRenamed(cols_dict)\n",
    "\n",
    "# Identificação das colunas que contêm informações de data/hora, com base no nome da coluna\n",
    "# Aqui, as colunas que começam com 'Chegada' ou 'Partida' são identificadas como colunas de timestamp\n",
    "timestamp_cols = [col for col in cols_dict.values() if col.startswith('Chegada') or col.startswith('Partida')]\n",
    "\n",
    "# Conversão das colunas de data/hora para o tipo Timestamp\n",
    "# 'to_timestamp' converte as colunas selecionadas para o tipo Timestamp, que é mais adequado para manipulações de data e hora\n",
    "for col in timestamp_cols:\n",
    "    dfa = dfa.withColumn(col, to_timestamp(col))\n",
    "\n",
    "# Exibição do DataFrame 'dfa' resultante, para verificar as mudanças feitas\n",
    "# 'show' exibe as primeiras 20 linhas do DataFrame para visualização\n",
    "dfa.show()"
   ]
  },
  {
   "cell_type": "markdown",
   "metadata": {
    "id": "HaThD2pUnoIF"
   },
   "source": [
    "## Análise de Pontualidade dos Voos\n",
    "\n",
    "### Objetivo\n",
    "  - Calcular o atraso médio de cada companhia aérea e identificar as mais e menos pontuais.\n",
    "\n",
    "### Processo\n",
    "  - Calcule a diferença entre Partida.Prevista e Partida.Real e entre Chegada.Prevista e Chegada.Real.\n",
    "  - Agrupe por Companhia.Aerea e calcule o atraso médio para partidas e chegadas.\n",
    "\n",
    "### Resultado esperado/saída\n",
    "  - Uma lista das companhias aéreas com o melhor e pior desempenho em relação à pontualidade."
   ]
  },
  {
   "cell_type": "code",
   "execution_count": 7,
   "metadata": {
    "colab": {
     "base_uri": "https://localhost:8080/"
    },
    "executionInfo": {
     "elapsed": 87010,
     "status": "ok",
     "timestamp": 1731424923489,
     "user": {
      "displayName": "Raphael Ramos",
      "userId": "15789848825425864116"
     },
     "user_tz": 180
    },
    "id": "bsheNa6EnoIF",
    "outputId": "40bad3db-aeca-49d1-8ec9-bb4727c6df15"
   },
   "outputs": [
    {
     "name": "stdout",
     "output_type": "stream",
     "text": [
      "Companhias com pior pontualidade:\n"
     ]
    },
    {
     "name": "stderr",
     "output_type": "stream",
     "text": [
      "                                                                                \r"
     ]
    },
    {
     "name": "stdout",
     "output_type": "stream",
     "text": [
      "+--------------------+--------------------+--------------------+\n",
      "|     Companhia_Aerea|Media_Atraso_Partida|Media_Atraso_Chegada|\n",
      "+--------------------+--------------------+--------------------+\n",
      "|     US AIRWAYS INC.| -1.3563636363636362| -1.3257575757575757|\n",
      "|               TOTAL|  -1.001130229419703| -0.6381916329284748|\n",
      "|     SURINAM AIRWAYS| -0.6516161616161616| -0.6026010101010102|\n",
      "|     UNITED AIRLINES|-0.48233420214306394| -0.4482575538179361|\n",
      "|TAAG LINHAS AEREA...| -0.3668213783403656| -0.5459774964838254|\n",
      "+--------------------+--------------------+--------------------+\n",
      "only showing top 5 rows\n",
      "\n",
      "Companhias com melhor pontualidade:\n"
     ]
    },
    {
     "name": "stderr",
     "output_type": "stream",
     "text": [
      "[Stage 24:===========================================>              (6 + 2) / 8]\r"
     ]
    },
    {
     "name": "stdout",
     "output_type": "stream",
     "text": [
      "+--------------------+--------------------+--------------------+\n",
      "|     Companhia_Aerea|Media_Atraso_Partida|Media_Atraso_Chegada|\n",
      "+--------------------+--------------------+--------------------+\n",
      "|     KOREAN AIRLINES|  15.212195121951215|  15.325842044134722|\n",
      "|LINEAS AE.COSTARR...|    14.6006329113924|  14.788818565400838|\n",
      "|    CONDOR FLUGDINST|   7.163303878252331|   5.032891507118312|\n",
      "|TRASAMERICA  AIRL...|   7.156831992850756|    7.33631367292225|\n",
      "|           ETHIOPIAN|   5.810776439089691|  5.8095716198125835|\n",
      "+--------------------+--------------------+--------------------+\n",
      "only showing top 5 rows\n",
      "\n",
      "Observação: médias de tempo em horas. Atrasos negativos indicam que o vôo começou antes do tempo.\n"
     ]
    },
    {
     "name": "stderr",
     "output_type": "stream",
     "text": [
      "                                                                                \r"
     ]
    }
   ],
   "source": [
    "from pyspark.sql.types import LongType\n",
    "from pyspark.sql import functions as Func\n",
    "from pyspark.sql.functions import col, asc, desc\n",
    "\n",
    "\"\"\"\n",
    "Diferença entre dois timestamps\n",
    "\n",
    "Parâmetros:\n",
    "  - start_ts (string) : timestamp inicial\n",
    "  - end_ts (string) : timestamp final\n",
    "  - unit (char) : retorno desejado. Valores possíveis: seconds (segundos), minutes (minutos) ou hours (horas)\n",
    "\n",
    "Retorna:\n",
    "  - long : Diferença\n",
    "\"\"\"\n",
    "def diff_ts(start_ts , end_ts, unit):\n",
    "  seconds = col(start_ts).cast('long') - col(end_ts).cast('long')\n",
    "  minutes = seconds/60.0\n",
    "  hours = minutes/60.0\n",
    "  return locals()[unit]\n",
    "\n",
    "\"\"\"\n",
    "Rank por média de atraso de partida e chegada das companhias aéreas\n",
    "\n",
    "Parâmetros:\n",
    "  - df (DataFrame) : tabela com dados de voos do Brasil\n",
    "  - order (string) : ordem desejada. Valores: asc (ascendente), desc (descendente)\n",
    "  - n (int) : tamanho do rank\n",
    "\n",
    "Retorna:\n",
    "  - DataFrame : rank das n companhias ordenadas\n",
    "\"\"\"\n",
    "def rank_avg_delays(df, order, n):\n",
    "  return df.sort(\n",
    "      globals()[order]('Media_Atraso_Partida'),\n",
    "      globals()[order]('Media_Atraso_Chegada')).show(n)\n",
    "\n",
    "# Unidade de tempo\n",
    "units = {'seconds' : 'segundos', 'minutes' : 'minutos', 'hours' : 'horas'}\n",
    "unit = 'hours'\n",
    "\n",
    "# diffs_ts_udf = Func.udf(diff_ts, LongType())\n",
    "\n",
    "# Cópia do dataframe rejeitando os timestamps NULL\n",
    "dfa_filtered = dfa.filter(\n",
    "    dfa.Chegada_Prevista.isNotNull() & dfa.Chegada_Real.isNotNull()\\\n",
    "    & dfa.Partida_Real.isNotNull() & dfa.Partida_Prevista.isNotNull()\n",
    ")\n",
    "\n",
    "# Diferenças entre prevista e real\n",
    "dfa_filtered = dfa_filtered.withColumn('Chegada_Diferenca', diff_ts('Chegada_Prevista', 'Chegada_Real', 'hours'))\\\n",
    "  .withColumn('Partida_Diferenca', diff_ts('Partida_Prevista', 'Partida_Real', 'hours'))\n",
    "\n",
    "# Calcular médias dos atrasos\n",
    "df_companies_avg_diffs = dfa_filtered.groupBy('Companhia_Aerea').agg(\n",
    "    Func.avg('Partida_Diferenca').alias('Media_Atraso_Partida'),\n",
    "    Func.avg('Chegada_Diferenca').alias('Media_Atraso_Chegada'))\n",
    "\n",
    "# Tamanho do rank\n",
    "n = 5\n",
    "\n",
    "print('Companhias com pior pontualidade:')\n",
    "rank_avg_delays(df_companies_avg_diffs, 'asc', n)\n",
    "\n",
    "print('Companhias com melhor pontualidade:')\n",
    "rank_avg_delays(df_companies_avg_diffs, 'desc', n)\n",
    "\n",
    "print(f'Observação: médias de tempo em {units[unit]}. Atrasos negativos indicam que o vôo começou antes do tempo.')"
   ]
  },
  {
   "cell_type": "markdown",
   "metadata": {
    "id": "q8l4jOL0noIG"
   },
   "source": [
    "## Justificativas de Atrasos\n",
    "\n",
    "### Objetivo\n",
    "  - Analisar os motivos mais comuns de atrasos de voos.\n",
    "\n",
    "### Processo\n",
    "  - Agrupe os dados por Codigo.Justificativa e conte a frequência de cada justificativa.\n",
    "\n",
    "### Resultado esperado/saída\n",
    "  - Uma tabela que exibe as principais justificativas de atrasos, o que pode ajudar a entender os motivos mais frequentes."
   ]
  },
  {
   "cell_type": "code",
   "execution_count": 4,
   "metadata": {
    "colab": {
     "base_uri": "https://localhost:8080/"
    },
    "executionInfo": {
     "elapsed": 9330,
     "status": "ok",
     "timestamp": 1731424932813,
     "user": {
      "displayName": "Raphael Ramos",
      "userId": "15789848825425864116"
     },
     "user_tz": 180
    },
    "id": "ESVOk2zJnoIG",
    "outputId": "021af327-143a-4bb6-d51e-3ec9150e0d69"
   },
   "outputs": [
    {
     "name": "stderr",
     "output_type": "stream",
     "text": [
      "[Stage 9:>                                                          (0 + 8) / 8]\r"
     ]
    },
    {
     "name": "stdout",
     "output_type": "stream",
     "text": [
      "+--------------------+----------+\n",
      "|Codigo_Justificativa|Frequencia|\n",
      "+--------------------+----------+\n",
      "|ANTECIPACAO DE HO...|    238359|\n",
      "|          AUTORIZADO|     77323|\n",
      "|CANCELAMENTO POR ...|     68328|\n",
      "|AEROPORTO COM RES...|     39232|\n",
      "|LIBERACAO SERV. T...|     35658|\n",
      "|ATRASOS NAO ESPEC...|     26549|\n",
      "| CONEXAO DE AERONAVE|     25062|\n",
      "|CONEXAO AERONAVE/...|     23034|\n",
      "|DEFEITOS DA AERONAVE|     20720|\n",
      "|CONEXAO AERONAVE/...|     18372|\n",
      "|SEGURANCA/PAX/CAR...|      8832|\n",
      "|FALHA EQUIPO AUTO...|      8631|\n",
      "|   TROCA DE AERONAVE|      7118|\n",
      "|AEROPORTO ORIGEM ...|      5778|\n",
      "|AEROPORTO DESTINO...|      5166|\n",
      "|AEROPORTO DE ORIG...|      4350|\n",
      "|AEROPORTO DE DEST...|      4093|\n",
      "|FALTA PAX COM PAS...|      3666|\n",
      "|CANCELAMENTO - AE...|      3629|\n",
      "|FACILIDADES DO AE...|      3314|\n",
      "+--------------------+----------+\n",
      "only showing top 20 rows\n",
      "\n"
     ]
    },
    {
     "name": "stderr",
     "output_type": "stream",
     "text": [
      "                                                                                \r"
     ]
    }
   ],
   "source": [
    "# Cópia do dataframe rejeitando as justificativas NULL\n",
    "dfa_filtered = dfa.filter(dfa.Codigo_Justificativa.isNotNull() & ~(dfa.Codigo_Justificativa == \"NA\"))\n",
    "\n",
    "# Exibir frequencia de cada justificativa\n",
    "dfa_filtered.groupBy('Codigo_Justificativa').agg(Func.count('Codigo_Justificativa').alias('Frequencia')).sort(desc('Frequencia')).show()"
   ]
  },
  {
   "cell_type": "markdown",
   "metadata": {
    "id": "ag287q9MnoIG"
   },
   "source": [
    "## Fluxo de Voos entre Regiões\n",
    "\n",
    "### Objetivo\n",
    "- Observar padrões de movimentação entre cidades, estados ou países.\n",
    "\n",
    "### Processo\n",
    "  - Use Cidade.Origem, Estado.Origem, Pais.Origem e Cidade.Destino, Estado.Destino, Pais.Destino para identificar os pares mais frequentes de origem e destino.\n",
    "  - Conte os voos entre esses pares e calcule a distância média usando as coordenadas (LongOrig, LatOrig, LongDest, LatDest).\n",
    "  - Pesquise sobre a Fórmula de Haversine para este cálculo.\n",
    "\n",
    "### Resultado esperado/saída\n",
    "  - Identificação das rotas mais movimentadas e a média de distância percorrida entre elas."
   ]
  },
  {
   "cell_type": "code",
   "execution_count": 5,
   "metadata": {
    "colab": {
     "base_uri": "https://localhost:8080/"
    },
    "executionInfo": {
     "elapsed": 31784,
     "status": "ok",
     "timestamp": 1731424964593,
     "user": {
      "displayName": "Raphael Ramos",
      "userId": "15789848825425864116"
     },
     "user_tz": 180
    },
    "id": "yY6EK9D6noIG",
    "outputId": "43c6fd77-62ef-4409-aac8-23eece4fc1f5"
   },
   "outputs": [
    {
     "name": "stderr",
     "output_type": "stream",
     "text": [
      "[Stage 12:==================================================>       (7 + 1) / 8]\r"
     ]
    },
    {
     "name": "stdout",
     "output_type": "stream",
     "text": [
      "+--------------------+-------------+--------------------+--------------------+--------------+--------------------+------------------+\n",
      "|       Cidade_Origem|Estado_Origem|         Pais_Origem|      Cidade_Destino|Estado_Destino|        Pais_Destino|   Media_Distancia|\n",
      "+--------------------+-------------+--------------------+--------------------+--------------+--------------------+------------------+\n",
      "| Dubai International|          N/I|Emirados Arabes U...|           Guarulhos|            SP|              Brasil|12217.646630244011|\n",
      "|           Guarulhos|           SP|              Brasil| Dubai International|           N/I|Emirados Arabes U...| 12217.64663024401|\n",
      "|Ab Dhabi Internat...|          N/I|Emirados Arabes U...|           Guarulhos|            SP|              Brasil|12121.620224548631|\n",
      "|           Guarulhos|           SP|              Brasil|Ab Dhabi Internat...|           N/I|Emirados Arabes U...|12121.620224548631|\n",
      "|      Rio De Janeiro|           RJ|              Brasil| Dubai International|           N/I|Emirados Arabes U...| 11884.02855380927|\n",
      "| Dubai International|          N/I|Emirados Arabes U...|      Rio De Janeiro|            RJ|              Brasil|11884.028553809268|\n",
      "|                Doha|          N/I|               Qatar|           Guarulhos|            SP|              Brasil|11858.869051954582|\n",
      "|           Guarulhos|           SP|              Brasil|                Doha|           N/I|               Qatar| 11858.86905195458|\n",
      "|           Guarulhos|           SP|              Brasil|    Istanbul/Ataturk|           N/I|             Turquia| 10549.29036417495|\n",
      "|    Istanbul/Ataturk|          N/I|             Turquia|           Guarulhos|            SP|              Brasil|10549.290364174947|\n",
      "|         Addis Ababa|          N/I|            Ethiopia|           Guarulhos|            SP|              Brasil| 9927.633532285477|\n",
      "|           Guarulhos|           SP|              Brasil|         Addis Ababa|           N/I|            Ethiopia| 9927.633532285476|\n",
      "|           Guarulhos|           SP|              Brasil|             Munchen|           N/I|            Alemanha| 9857.005729920975|\n",
      "|             Munchen|          N/I|            Alemanha|           Guarulhos|            SP|              Brasil| 9857.005729920975|\n",
      "|           Guarulhos|           SP|              Brasil|           Frankfurt|           N/I|            Alemanha| 9798.255650730112|\n",
      "|           Frankfurt|          N/I|            Alemanha|           Guarulhos|            SP|              Brasil| 9798.255650730109|\n",
      "|           Guarulhos|           SP|              Brasil|           Amsterdam|           N/I|             Holanda| 9775.428645762035|\n",
      "|           Amsterdam|          N/I|             Holanda|           Guarulhos|            SP|              Brasil| 9775.428645762033|\n",
      "|          Luxemburgo|          N/I|          Luxemburgo|           Guarulhos|            SP|              Brasil| 9642.910823640483|\n",
      "|           Guarulhos|           SP|              Brasil|             Zurique|           N/I|               Suica| 9609.069970805514|\n",
      "+--------------------+-------------+--------------------+--------------------+--------------+--------------------+------------------+\n",
      "only showing top 20 rows\n",
      "\n"
     ]
    },
    {
     "name": "stderr",
     "output_type": "stream",
     "text": [
      "                                                                                \r"
     ]
    }
   ],
   "source": [
    "from pyspark.sql.types import DoubleType\n",
    "from math import sin, cos, sqrt, atan2, radians\n",
    "\n",
    "\"\"\"\n",
    "Fórmula de Haversine\n",
    "\n",
    "Parâmetros:\n",
    "  - lat_dest (double) : latitude destino (rad)\n",
    "  - lat_orig (double) : latitude origem (rad)\n",
    "  - lon_dest (double) : longitude destino (rad)\n",
    "  - lon_orig (double) : longitude origem (rad)\n",
    "\n",
    "Retorna:\n",
    "  - double : distância entre os dois pontos (km)\n",
    "\n",
    "Observações:\n",
    "  - A Fórmula de Haversine é uma equação utilizada em navegação\n",
    "  - Fornece a distância entre 2 pontos de uma esfera, a partir de suas latitudes e longitudes.\n",
    "\"\"\"\n",
    "def haversine(lon_dest, lat_dest, lon_orig, lat_orig):\n",
    "  # Conversão para radianos\n",
    "  lat_orig, lon_orig, lat_dest, lon_dest = map(radians, [lat_orig, lon_orig, lat_dest, lon_dest])\n",
    "\n",
    "  # Raio da terra (km)\n",
    "  r = 6371.0\n",
    "\n",
    "  # Diferenças das latitudes e logintudes dos pontos em radianos\n",
    "  d_lat = lat_dest - lat_orig\n",
    "  d_lon = lon_dest - lon_orig\n",
    "\n",
    "  # Calculo das constantes\n",
    "  a = sin(d_lat/2) * sin(d_lat/2) + cos(lat_orig) * cos(lat_dest) * sin(d_lon/2) * sin(d_lon/2)\n",
    "  c = 2 * atan2(sqrt(a), sqrt(1-a));\n",
    "\n",
    "  # Retorna distancia\n",
    "  return r * c\n",
    "\n",
    "# Cópia do dataframe rejeitando linhas com pelo menos uma coordenada NULL\n",
    "dfa_filtered = dfa.filter(\n",
    "    dfa.LongOrig.isNotNull() & dfa.LongDest.isNotNull()\\\n",
    "    & dfa.LatOrig.isNotNull() & dfa.LatDest.isNotNull()\n",
    ")\n",
    "\n",
    "# Transformar função haversine em User Defined Function que deve aceitar colunas do tipo double\n",
    "haversine_udf = Func.udf(haversine, DoubleType())\n",
    "\n",
    "# Colunas com as coordenadas de latitude e longitude\n",
    "coordinate_cols = [col for col in dfa_filtered.columns if col.endswith('Orig') or col.endswith('Dest')]\n",
    "\n",
    "# Colunas de origem e destino dos pares\n",
    "pairs_cols = [col for col in dfa_filtered.columns if not col.startswith('Aeroporto') and ( col.endswith('Origem') or col.endswith('Destino') )]\n",
    "\n",
    "# Calcular distâncias de cada voo\n",
    "dfa_filtered = dfa_filtered.withColumn('Distancia', haversine_udf(*[col(c).cast('double') for c in coordinate_cols]))\n",
    "\n",
    "# Agrupar pares origem e destino pela média de distância\n",
    "dfa_filtered.groupBy(*pairs_cols).agg(Func.avg('Distancia').alias('Media_Distancia')).sort(desc('Media_Distancia')).show()"
   ]
  }
 ],
 "metadata": {
  "colab": {
   "provenance": []
  },
  "kernelspec": {
   "display_name": "Python 3",
   "language": "python",
   "name": "python3"
  },
  "language_info": {
   "codemirror_mode": {
    "name": "ipython",
    "version": 3
   },
   "file_extension": ".py",
   "mimetype": "text/x-python",
   "name": "python",
   "nbconvert_exporter": "python",
   "pygments_lexer": "ipython3",
   "version": "3.12.3"
  }
 },
 "nbformat": 4,
 "nbformat_minor": 0
}
